{
 "cells": [
  {
   "cell_type": "markdown",
   "metadata": {},
   "source": [
    "Time Series Forecasting with the Long Short-Term Memory Network in Python\n",
    "\n",
    "https://machinelearningmastery.com/time-series-forecasting-long-short-term-memory-network-python/\n",
    "\n",
    "Tsfresh library notebook\n",
    "\n",
    "https://github.com/blue-yonder/tsfresh/tree/master/notebooks\n",
    "\n",
    "How to Use the TimeseriesGenerator for Time Series Forecasting in Keras\n",
    "\n",
    "https://machinelearningmastery.com/how-to-use-the-timeseriesgenerator-for-time-series-forecasting-in-keras/\n",
    "\n",
    "Facebook Prophet notebook\n",
    "\n",
    "https://github.com/facebook/prophet/tree/master/notebooks\n",
    "\n",
    "Identifying the numbers of AR or MA terms in an ARIMA model\n",
    "\n",
    "https://people.duke.edu/~rnau/411arim3.htm\n",
    "\n",
    "The Augmented Dickey-Fuller Test\n",
    "\n",
    "https://www.thoughtco.com/the-augmented-dickey-fuller-test-1145985\n",
    "\n",
    "Playing with time series data in python\n",
    "\n",
    "https://towardsdatascience.com/playing-with-time-series-data-in-python-959e2485bff8\n",
    "\n",
    "An End-to-End Project on Time Series Analysis and Forecasting with Python\n",
    "\n",
    "https://towardsdatascience.com/an-end-to-end-project-on-time-series-analysis-and-forecasting-with-python-4835e6bf050b\n",
    "\n",
    "Statsmodels SARIMAX\n",
    "\n",
    "https://www.statsmodels.org/dev/generated/statsmodels.tsa.statespace.sarimax.SARIMAX.html\n",
    "\n",
    "How to Build Exponential Smoothing Models Using Python: Simple Exponential Smoothing, Holt, and Holt-Winters\n",
    "\n",
    "https://medium.com/datadriveninvestor/how-to-build-exponential-smoothing-models-using-python-simple-exponential-smoothing-holt-and-da371189e1a1\n",
    "\n",
    "Exponential Smoothing\n",
    "\n",
    "https://en.wikipedia.org/wiki/Exponential_smoothing\n",
    "\n",
    "Stationarity and differencing\n",
    "\n",
    "https://people.duke.edu/~rnau/411diff.htm\n",
    "\n",
    "Autoregressive integrated moving average\n",
    "\n",
    "https://en.wikipedia.org/wiki/Autoregressive_integrated_moving_average"
   ]
  }
 ],
 "metadata": {
  "kernelspec": {
   "display_name": "Python 3",
   "language": "python",
   "name": "python3"
  },
  "language_info": {
   "codemirror_mode": {
    "name": "ipython",
    "version": 3
   },
   "file_extension": ".py",
   "mimetype": "text/x-python",
   "name": "python",
   "nbconvert_exporter": "python",
   "pygments_lexer": "ipython3",
   "version": "3.6.6"
  }
 },
 "nbformat": 4,
 "nbformat_minor": 2
}
