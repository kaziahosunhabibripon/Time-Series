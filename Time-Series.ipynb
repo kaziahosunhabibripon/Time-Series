{
 "cells": [
  {
   "cell_type": "markdown",
   "metadata": {},
   "source": [
    "What is time series data?\n",
    "<br>a series of observation/data measured at equally spaced timestamp."
   ]
  },
  {
   "cell_type": "markdown",
   "metadata": {},
   "source": [
    "What is time series analysis?\n",
    "<br>methods used for analyzing time series data in order to extract meaningful statistics and other characteristics of the data."
   ]
  },
  {
   "cell_type": "markdown",
   "metadata": {},
   "source": [
    "What are classes of time series analysis?\n",
    "<br> parametric and non-parametric method/approach"
   ]
  },
  {
   "cell_type": "markdown",
   "metadata": {},
   "source": [
    "What is the assumption of parametric method/approach of time series analysis?\n",
    "<br>it assumes the underlying stationary stochastic process can be described with a small number of parameters."
   ]
  },
  {
   "cell_type": "markdown",
   "metadata": {},
   "source": [
    "What are examples of parametric approach?\n",
    "<br>moving average, autoregression"
   ]
  },
  {
   "cell_type": "markdown",
   "metadata": {},
   "source": [
    "What are different ways of exploratory data analysis for time-series data?\n",
    "<br>line chart\n",
    "<br>autocorrelation analysis to examine serial dependence\n",
    "<br>separation to different componenets - seasonality, trend, "
   ]
  },
  {
   "cell_type": "markdown",
   "metadata": {},
   "source": [
    "What is curve fitting?\n",
    "<br> a process of construting a curve, or mathematical function, that has the best fit to the series of data points."
   ]
  },
  {
   "cell_type": "markdown",
   "metadata": {},
   "source": [
    "What is stationary time series data?\n",
    "<br>the data's statistical properties, such as mean, variance, autocorrelation, does not vary with time."
   ]
  },
  {
   "cell_type": "markdown",
   "metadata": {},
   "source": [
    "What is exponential smoothing?\n",
    "<br>a technique used for smoothing time series data with expoential window function."
   ]
  },
  {
   "cell_type": "markdown",
   "metadata": {},
   "source": [
    "What is window function?\n",
    "<br>a mathematical function that is zero-valued outside of some chosen inverval. normally symmetric around the middle of interval, near a maxmimum in the middle, and taper away from the middle."
   ]
  },
  {
   "cell_type": "markdown",
   "metadata": {},
   "source": [
    "What is statistic?\n",
    "<br>statistic or sample statistic is single measure of some attribute of a sample. \n",
    "<br>eg. sample mean, sample median, sample variance, sample standard deviation, sample maximum, sample minimum."
   ]
  },
  {
   "cell_type": "markdown",
   "metadata": {},
   "source": [
    "What are types of seasonality?\n",
    "<br>multiplicative and additive"
   ]
  },
  {
   "cell_type": "markdown",
   "metadata": {},
   "source": [
    "What does the \"exponential\" smoothing mean?\n",
    "<br>The use of exponential window function during convolution."
   ]
  },
  {
   "cell_type": "markdown",
   "metadata": {},
   "source": [
    "What is convolution?\n",
    "<br>a mathematical operation on two functions to produce a third function that express how the shape of one is modified by the other."
   ]
  },
  {
   "cell_type": "markdown",
   "metadata": {},
   "source": [
    "What is the idea of exponential smoothing?\n",
    "<br>it produces the prediction with weighted average of past observations. The weight decays exponentially as the observations get older."
   ]
  },
  {
   "cell_type": "markdown",
   "metadata": {},
   "source": [
    "What is single/simple exponential smoothing?\n",
    "<br>a time series forecasting method used for univariate data without a trend or seasonality. It requires smoothing factor, alpha."
   ]
  },
  {
   "cell_type": "markdown",
   "metadata": {},
   "source": [
    "Define smoothing factor, alpha.\n",
    "<br>It is between 0 and 1. a value close to 1 indicate fast learning (only the most recent values influence the forecast); a value close to 0 indicate slow learning (past oberservations have large influence on forecast)."
   ]
  },
  {
   "cell_type": "markdown",
   "metadata": {},
   "source": [
    "What is autoregression model?\n",
    "<br>it uses the observations from previous time step (lagged values) to predict the value at the next time step."
   ]
  },
  {
   "cell_type": "markdown",
   "metadata": {},
   "source": [
    "What is moving average model?\n",
    "<br>it uses previous prediction error (residual) to make current forecast."
   ]
  },
  {
   "cell_type": "markdown",
   "metadata": {},
   "source": [
    "What is the difference between AR and MA model?\n",
    "<br>AR is fitted by least square; MA is fitted by maximum likelihood"
   ]
  },
  {
   "cell_type": "markdown",
   "metadata": {},
   "source": []
  },
  {
   "cell_type": "markdown",
   "metadata": {},
   "source": []
  },
  {
   "cell_type": "markdown",
   "metadata": {},
   "source": []
  },
  {
   "cell_type": "markdown",
   "metadata": {},
   "source": []
  },
  {
   "cell_type": "markdown",
   "metadata": {},
   "source": []
  },
  {
   "cell_type": "markdown",
   "metadata": {},
   "source": []
  },
  {
   "cell_type": "markdown",
   "metadata": {},
   "source": []
  },
  {
   "cell_type": "markdown",
   "metadata": {},
   "source": []
  },
  {
   "cell_type": "markdown",
   "metadata": {},
   "source": []
  },
  {
   "cell_type": "markdown",
   "metadata": {},
   "source": []
  },
  {
   "cell_type": "markdown",
   "metadata": {},
   "source": []
  },
  {
   "cell_type": "markdown",
   "metadata": {},
   "source": []
  },
  {
   "cell_type": "markdown",
   "metadata": {},
   "source": []
  },
  {
   "cell_type": "markdown",
   "metadata": {},
   "source": []
  },
  {
   "cell_type": "markdown",
   "metadata": {},
   "source": []
  },
  {
   "cell_type": "markdown",
   "metadata": {},
   "source": []
  },
  {
   "cell_type": "markdown",
   "metadata": {},
   "source": []
  },
  {
   "cell_type": "markdown",
   "metadata": {},
   "source": []
  },
  {
   "cell_type": "markdown",
   "metadata": {},
   "source": []
  },
  {
   "cell_type": "markdown",
   "metadata": {},
   "source": []
  },
  {
   "cell_type": "markdown",
   "metadata": {},
   "source": []
  },
  {
   "cell_type": "markdown",
   "metadata": {},
   "source": []
  },
  {
   "cell_type": "markdown",
   "metadata": {},
   "source": []
  }
 ],
 "metadata": {
  "kernelspec": {
   "display_name": "Python 3",
   "language": "python",
   "name": "python3"
  },
  "language_info": {
   "codemirror_mode": {
    "name": "ipython",
    "version": 3
   },
   "file_extension": ".py",
   "mimetype": "text/x-python",
   "name": "python",
   "nbconvert_exporter": "python",
   "pygments_lexer": "ipython3",
   "version": "3.6.6"
  }
 },
 "nbformat": 4,
 "nbformat_minor": 2
}
