{
 "cells": [
  {
   "cell_type": "markdown",
   "metadata": {},
   "source": [
    "### Using a different time series data set (either from FRED or elsewhere, go about the process of time series modeling. Specifically generate the following things:\n",
    "\n",
    "### - Plot the time series, along with any logical or necessary differences to get a stationary dataset\n",
    "### - Generate and interpret a PACF for the time series (and/or its differences)\n",
    "### - Generate 5 ARIMA specifications and evaluate their efficacy at modeling your data\n",
    "### - Finally choose one specification and make the case for that as a logical model for your dataset.\n",
    "### This should come in the form of a notebook with the necessary prose to explain your process. Remember to use the tools of text, visuals, and analysis to tell a clear and concise story with your data."
   ]
  },
  {
   "cell_type": "code",
   "execution_count": 1,
   "metadata": {},
   "outputs": [],
   "source": [
    "import pandas as pd\n",
    "import numpy as np\n",
    "import statsmodels.api as sm\n",
    "import itertools\n",
    "import matplotlib.pyplot as plt\n",
    "from matplotlib.pylab import rcParams\n",
    "\n",
    "import warnings\n",
    "warnings.filterwarnings(\"ignore\")\n",
    "warnings.simplefilter(action='ignore', category=FutureWarning)\n",
    "\n",
    "from statsmodels.tsa.arima_model import ARIMA\n",
    "\n",
    "from pandas import concat\n",
    "\n",
    "from statsmodels.tsa.stattools import acf, pacf\n",
    "from statsmodels.graphics.tsaplots import plot_acf\n",
    "from statsmodels.graphics.tsaplots import plot_pacf\n",
    "\n",
    "from statsmodels.tsa.stattools import adfuller"
   ]
  },
  {
   "cell_type": "markdown",
   "metadata": {},
   "source": [
    "## Data Exploration"
   ]
  },
  {
   "cell_type": "code",
   "execution_count": 2,
   "metadata": {},
   "outputs": [],
   "source": [
    "df=pd.read_csv('AEP_hourly.csv')"
   ]
  },
  {
   "cell_type": "code",
   "execution_count": 3,
   "metadata": {},
   "outputs": [
    {
     "data": {
      "text/html": [
       "<div>\n",
       "<style scoped>\n",
       "    .dataframe tbody tr th:only-of-type {\n",
       "        vertical-align: middle;\n",
       "    }\n",
       "\n",
       "    .dataframe tbody tr th {\n",
       "        vertical-align: top;\n",
       "    }\n",
       "\n",
       "    .dataframe thead th {\n",
       "        text-align: right;\n",
       "    }\n",
       "</style>\n",
       "<table border=\"1\" class=\"dataframe\">\n",
       "  <thead>\n",
       "    <tr style=\"text-align: right;\">\n",
       "      <th></th>\n",
       "      <th>Datetime</th>\n",
       "      <th>AEP_MW</th>\n",
       "    </tr>\n",
       "  </thead>\n",
       "  <tbody>\n",
       "    <tr>\n",
       "      <th>0</th>\n",
       "      <td>2004-12-31 01:00:00</td>\n",
       "      <td>13478.0</td>\n",
       "    </tr>\n",
       "    <tr>\n",
       "      <th>1</th>\n",
       "      <td>2004-12-31 02:00:00</td>\n",
       "      <td>12865.0</td>\n",
       "    </tr>\n",
       "    <tr>\n",
       "      <th>2</th>\n",
       "      <td>2004-12-31 03:00:00</td>\n",
       "      <td>12577.0</td>\n",
       "    </tr>\n",
       "    <tr>\n",
       "      <th>3</th>\n",
       "      <td>2004-12-31 04:00:00</td>\n",
       "      <td>12517.0</td>\n",
       "    </tr>\n",
       "    <tr>\n",
       "      <th>4</th>\n",
       "      <td>2004-12-31 05:00:00</td>\n",
       "      <td>12670.0</td>\n",
       "    </tr>\n",
       "  </tbody>\n",
       "</table>\n",
       "</div>"
      ],
      "text/plain": [
       "              Datetime   AEP_MW\n",
       "0  2004-12-31 01:00:00  13478.0\n",
       "1  2004-12-31 02:00:00  12865.0\n",
       "2  2004-12-31 03:00:00  12577.0\n",
       "3  2004-12-31 04:00:00  12517.0\n",
       "4  2004-12-31 05:00:00  12670.0"
      ]
     },
     "execution_count": 3,
     "metadata": {},
     "output_type": "execute_result"
    }
   ],
   "source": [
    "df.head(5)"
   ]
  },
  {
   "cell_type": "code",
   "execution_count": 4,
   "metadata": {},
   "outputs": [],
   "source": [
    "df.columns=['Time','MW']"
   ]
  },
  {
   "cell_type": "code",
   "execution_count": 5,
   "metadata": {
    "scrolled": true
   },
   "outputs": [
    {
     "name": "stdout",
     "output_type": "stream",
     "text": [
      "<class 'pandas.core.frame.DataFrame'>\n",
      "RangeIndex: 121273 entries, 0 to 121272\n",
      "Data columns (total 2 columns):\n",
      "Time    121273 non-null object\n",
      "MW      121273 non-null float64\n",
      "dtypes: float64(1), object(1)\n",
      "memory usage: 1.9+ MB\n"
     ]
    }
   ],
   "source": [
    "df.info()"
   ]
  },
  {
   "cell_type": "code",
   "execution_count": 6,
   "metadata": {},
   "outputs": [],
   "source": [
    "ts=pd.DataFrame(df['MW'])"
   ]
  },
  {
   "cell_type": "markdown",
   "metadata": {},
   "source": [
    "## Indexing with Time Series Data"
   ]
  },
  {
   "cell_type": "code",
   "execution_count": 7,
   "metadata": {
    "scrolled": false
   },
   "outputs": [
    {
     "data": {
      "text/html": [
       "<div>\n",
       "<style scoped>\n",
       "    .dataframe tbody tr th:only-of-type {\n",
       "        vertical-align: middle;\n",
       "    }\n",
       "\n",
       "    .dataframe tbody tr th {\n",
       "        vertical-align: top;\n",
       "    }\n",
       "\n",
       "    .dataframe thead th {\n",
       "        text-align: right;\n",
       "    }\n",
       "</style>\n",
       "<table border=\"1\" class=\"dataframe\">\n",
       "  <thead>\n",
       "    <tr style=\"text-align: right;\">\n",
       "      <th></th>\n",
       "      <th>MW</th>\n",
       "    </tr>\n",
       "    <tr>\n",
       "      <th>Time</th>\n",
       "      <th></th>\n",
       "    </tr>\n",
       "  </thead>\n",
       "  <tbody>\n",
       "    <tr>\n",
       "      <th>2004-12-31 01:00:00</th>\n",
       "      <td>13478.0</td>\n",
       "    </tr>\n",
       "    <tr>\n",
       "      <th>2004-12-31 02:00:00</th>\n",
       "      <td>12865.0</td>\n",
       "    </tr>\n",
       "    <tr>\n",
       "      <th>2004-12-31 03:00:00</th>\n",
       "      <td>12577.0</td>\n",
       "    </tr>\n",
       "    <tr>\n",
       "      <th>2004-12-31 04:00:00</th>\n",
       "      <td>12517.0</td>\n",
       "    </tr>\n",
       "    <tr>\n",
       "      <th>2004-12-31 05:00:00</th>\n",
       "      <td>12670.0</td>\n",
       "    </tr>\n",
       "  </tbody>\n",
       "</table>\n",
       "</div>"
      ],
      "text/plain": [
       "                          MW\n",
       "Time                        \n",
       "2004-12-31 01:00:00  13478.0\n",
       "2004-12-31 02:00:00  12865.0\n",
       "2004-12-31 03:00:00  12577.0\n",
       "2004-12-31 04:00:00  12517.0\n",
       "2004-12-31 05:00:00  12670.0"
      ]
     },
     "execution_count": 7,
     "metadata": {},
     "output_type": "execute_result"
    }
   ],
   "source": [
    "ts=ts.set_index(pd.to_datetime(df['Time']))\n",
    "ts.head()"
   ]
  },
  {
   "cell_type": "markdown",
   "metadata": {},
   "source": [
    "## Data Visualization - Original Data"
   ]
  },
  {
   "cell_type": "code",
   "execution_count": 8,
   "metadata": {},
   "outputs": [],
   "source": [
    "y = ts['MW'].resample('MS').mean()"
   ]
  },
  {
   "cell_type": "code",
   "execution_count": 9,
   "metadata": {},
   "outputs": [
    {
     "data": {
      "image/png": "[encoded data removed]",
      "text/plain": [
       "<Figure size 432x288 with 1 Axes>"
      ]
     },
     "metadata": {
      "needs_background": "light"
     },
     "output_type": "display_data"
    }
   ],
   "source": [
    "y.plot()\n",
    "plt.show()"
   ]
  },
  {
   "cell_type": "markdown",
   "metadata": {},
   "source": [
    "## Data Visualization - Difference Data"
   ]
  },
  {
   "cell_type": "code",
   "execution_count": 10,
   "metadata": {
    "scrolled": true
   },
   "outputs": [
    {
     "data": {
      "image/png": "[encoded data removed]",
      "text/plain": [
       "<Figure size 432x288 with 1 Axes>"
      ]
     },
     "metadata": {
      "needs_background": "light"
     },
     "output_type": "display_data"
    }
   ],
   "source": [
    "y_diff=y-y.shift()\n",
    "y_diff=y_diff[1:len(y)]\n",
    "y_diff.plot()\n",
    "plt.show()"
   ]
  },
  {
   "cell_type": "markdown",
   "metadata": {},
   "source": [
    "## PACF - Original Data"
   ]
  },
  {
   "cell_type": "code",
   "execution_count": 11,
   "metadata": {},
   "outputs": [
    {
     "data": {
      "image/png": "[encoded data removed]",
      "text/plain": [
       "<Figure size 432x288 with 1 Axes>"
      ]
     },
     "metadata": {
      "needs_background": "light"
     },
     "output_type": "display_data"
    }
   ],
   "source": [
    "plot_pacf(y, lags=31, alpha=0.05)\n",
    "plt.show()"
   ]
  },
  {
   "cell_type": "markdown",
   "metadata": {},
   "source": [
    "### Lag-1 is strongly correlated."
   ]
  },
  {
   "cell_type": "markdown",
   "metadata": {},
   "source": [
    "## PACF - Difference Data"
   ]
  },
  {
   "cell_type": "code",
   "execution_count": 12,
   "metadata": {},
   "outputs": [
    {
     "data": {
      "image/png": "[encoded data removed]",
      "text/plain": [
       "<Figure size 432x288 with 1 Axes>"
      ]
     },
     "metadata": {
      "needs_background": "light"
     },
     "output_type": "display_data"
    }
   ],
   "source": [
    "plot_pacf(y_diff, lags=31, alpha=0.05)\n",
    "plt.show()"
   ]
  },
  {
   "cell_type": "markdown",
   "metadata": {},
   "source": [
    "### Lag-1 is strongly correlated."
   ]
  },
  {
   "cell_type": "code",
   "execution_count": 13,
   "metadata": {},
   "outputs": [],
   "source": [
    "aic_array=[]"
   ]
  },
  {
   "cell_type": "code",
   "execution_count": 14,
   "metadata": {},
   "outputs": [],
   "source": [
    "def mod(data,dic,ar):\n",
    "    model=ARIMA(data, order=dic).fit()\n",
    "    aic_array.append(model.aic)\n",
    "    print(model.summary())\n",
    "    print('Residuals Description')\n",
    "    print(model.resid.describe())"
   ]
  },
  {
   "cell_type": "markdown",
   "metadata": {},
   "source": [
    "## Model 1"
   ]
  },
  {
   "cell_type": "code",
   "execution_count": 15,
   "metadata": {
    "scrolled": true
   },
   "outputs": [
    {
     "name": "stdout",
     "output_type": "stream",
     "text": [
      "                             ARIMA Model Results                              \n",
      "==============================================================================\n",
      "Dep. Variable:                   D.MW   No. Observations:                  166\n",
      "Model:                 ARIMA(0, 1, 0)   Log Likelihood               -1435.130\n",
      "Method:                           css   S.D. of innovations           1375.293\n",
      "Date:                Sun, 06 Jan 2019   AIC                           2874.260\n",
      "Time:                        23:56:07   BIC                           2880.484\n",
      "Sample:                    11-01-2004   HQIC                          2876.786\n",
      "                         - 08-01-2018                                         \n",
      "==============================================================================\n",
      "                 coef    std err          z      P>|z|      [0.025      0.975]\n",
      "------------------------------------------------------------------------------\n",
      "const          8.7917    106.743      0.082      0.934    -200.422     218.005\n",
      "==============================================================================\n",
      "Residuals Description\n",
      "count    1.660000e+02\n",
      "mean     6.437688e-14\n",
      "std      1.379455e+03\n",
      "min     -3.241666e+03\n",
      "25%     -1.028100e+03\n",
      "50%      1.521894e+02\n",
      "75%      1.065030e+03\n",
      "max      3.237885e+03\n",
      "dtype: float64\n"
     ]
    }
   ],
   "source": [
    "mod(y,(0,1,0),aic_array)"
   ]
  },
  {
   "cell_type": "markdown",
   "metadata": {},
   "source": [
    "## Model 2"
   ]
  },
  {
   "cell_type": "code",
   "execution_count": 16,
   "metadata": {
    "scrolled": true
   },
   "outputs": [
    {
     "name": "stdout",
     "output_type": "stream",
     "text": [
      "                             ARIMA Model Results                              \n",
      "==============================================================================\n",
      "Dep. Variable:                   D.MW   No. Observations:                  166\n",
      "Model:                 ARIMA(1, 1, 0)   Log Likelihood               -1430.721\n",
      "Method:                       css-mle   S.D. of innovations           1339.033\n",
      "Date:                Sun, 06 Jan 2019   AIC                           2867.442\n",
      "Time:                        23:56:07   BIC                           2876.778\n",
      "Sample:                    11-01-2004   HQIC                          2871.232\n",
      "                         - 08-01-2018                                         \n",
      "==============================================================================\n",
      "                 coef    std err          z      P>|z|      [0.025      0.975]\n",
      "------------------------------------------------------------------------------\n",
      "const          9.6041    134.234      0.072      0.943    -253.489     272.697\n",
      "ar.L1.D.MW     0.2271      0.075      3.011      0.003       0.079       0.375\n",
      "                                    Roots                                    \n",
      "=============================================================================\n",
      "                  Real          Imaginary           Modulus         Frequency\n",
      "-----------------------------------------------------------------------------\n",
      "AR.1            4.4029           +0.0000j            4.4029            0.0000\n",
      "-----------------------------------------------------------------------------\n",
      "Residuals Description\n",
      "count     166.000000\n",
      "mean       -1.352046\n",
      "std      1343.173115\n",
      "min     -3654.329272\n",
      "25%      -995.416862\n",
      "50%        62.688294\n",
      "75%      1056.856555\n",
      "max      2919.031782\n",
      "dtype: float64\n"
     ]
    }
   ],
   "source": [
    "mod(y,(1,1,0),aic_array)"
   ]
  },
  {
   "cell_type": "markdown",
   "metadata": {},
   "source": [
    "## Model 3"
   ]
  },
  {
   "cell_type": "code",
   "execution_count": 17,
   "metadata": {
    "scrolled": true
   },
   "outputs": [
    {
     "name": "stdout",
     "output_type": "stream",
     "text": [
      "                             ARIMA Model Results                              \n",
      "==============================================================================\n",
      "Dep. Variable:                   D.MW   No. Observations:                  166\n",
      "Model:                 ARIMA(0, 1, 1)   Log Likelihood               -1427.162\n",
      "Method:                       css-mle   S.D. of innovations           1310.367\n",
      "Date:                Sun, 06 Jan 2019   AIC                           2860.323\n",
      "Time:                        23:56:07   BIC                           2869.659\n",
      "Sample:                    11-01-2004   HQIC                          2864.113\n",
      "                         - 08-01-2018                                         \n",
      "==============================================================================\n",
      "                 coef    std err          z      P>|z|      [0.025      0.975]\n",
      "------------------------------------------------------------------------------\n",
      "const          8.3487    135.506      0.062      0.951    -257.238     273.935\n",
      "ma.L1.D.MW     0.3344      0.068      4.882      0.000       0.200       0.469\n",
      "                                    Roots                                    \n",
      "=============================================================================\n",
      "                  Real          Imaginary           Modulus         Frequency\n",
      "-----------------------------------------------------------------------------\n",
      "MA.1           -2.9908           +0.0000j            2.9908            0.5000\n",
      "-----------------------------------------------------------------------------\n",
      "Residuals Description\n",
      "count     166.000000\n",
      "mean       -0.474548\n",
      "std      1314.578195\n",
      "min     -3771.766977\n",
      "25%      -906.864001\n",
      "50%       123.725219\n",
      "75%       914.832569\n",
      "max      2741.235032\n",
      "dtype: float64\n"
     ]
    }
   ],
   "source": [
    "mod(y,(0,1,1),aic_array)"
   ]
  },
  {
   "cell_type": "markdown",
   "metadata": {},
   "source": [
    "## Model 4"
   ]
  },
  {
   "cell_type": "code",
   "execution_count": 18,
   "metadata": {
    "scrolled": true
   },
   "outputs": [
    {
     "name": "stdout",
     "output_type": "stream",
     "text": [
      "                             ARIMA Model Results                              \n",
      "==============================================================================\n",
      "Dep. Variable:                   D.MW   No. Observations:                  166\n",
      "Model:                 ARIMA(1, 1, 1)   Log Likelihood               -1414.088\n",
      "Method:                       css-mle   S.D. of innovations           1197.052\n",
      "Date:                Sun, 06 Jan 2019   AIC                           2836.176\n",
      "Time:                        23:56:08   BIC                           2848.624\n",
      "Sample:                    11-01-2004   HQIC                          2841.229\n",
      "                         - 08-01-2018                                         \n",
      "==============================================================================\n",
      "                 coef    std err          z      P>|z|      [0.025      0.975]\n",
      "------------------------------------------------------------------------------\n",
      "const         -9.1840      3.868     -2.375      0.019     -16.765      -1.603\n",
      "ar.L1.D.MW     0.5119      0.068      7.511      0.000       0.378       0.645\n",
      "ma.L1.D.MW    -1.0000      0.017    -60.028      0.000      -1.033      -0.967\n",
      "                                    Roots                                    \n",
      "=============================================================================\n",
      "                  Real          Imaginary           Modulus         Frequency\n",
      "-----------------------------------------------------------------------------\n",
      "AR.1            1.9536           +0.0000j            1.9536            0.0000\n",
      "MA.1            1.0000           +0.0000j            1.0000            0.0000\n",
      "-----------------------------------------------------------------------------\n",
      "Residuals Description\n",
      "count     166.000000\n",
      "mean       75.452968\n",
      "std      1213.557985\n",
      "min     -2189.457674\n",
      "25%      -905.527182\n",
      "50%        46.763684\n",
      "75%       982.380813\n",
      "max      3047.677963\n",
      "dtype: float64\n"
     ]
    }
   ],
   "source": [
    "mod(y,(1,1,1),aic_array)"
   ]
  },
  {
   "cell_type": "markdown",
   "metadata": {},
   "source": [
    "## Model 5"
   ]
  },
  {
   "cell_type": "code",
   "execution_count": 19,
   "metadata": {
    "scrolled": true
   },
   "outputs": [
    {
     "name": "stdout",
     "output_type": "stream",
     "text": [
      "                             ARIMA Model Results                              \n",
      "==============================================================================\n",
      "Dep. Variable:                   D.MW   No. Observations:                  166\n",
      "Model:                 ARIMA(1, 1, 2)   Log Likelihood               -1396.343\n",
      "Method:                       css-mle   S.D. of innovations           1074.778\n",
      "Date:                Sun, 06 Jan 2019   AIC                           2802.686\n",
      "Time:                        23:56:08   BIC                           2818.246\n",
      "Sample:                    11-01-2004   HQIC                          2809.002\n",
      "                         - 08-01-2018                                         \n",
      "==============================================================================\n",
      "                 coef    std err          z      P>|z|      [0.025      0.975]\n",
      "------------------------------------------------------------------------------\n",
      "const         -9.4416      3.568     -2.647      0.009     -16.434      -2.449\n",
      "ar.L1.D.MW     0.2807      0.093      3.031      0.003       0.099       0.462\n",
      "ma.L1.D.MW    -0.4938      0.068     -7.242      0.000      -0.627      -0.360\n",
      "ma.L2.D.MW    -0.5061      0.067     -7.601      0.000      -0.637      -0.376\n",
      "                                    Roots                                    \n",
      "=============================================================================\n",
      "                  Real          Imaginary           Modulus         Frequency\n",
      "-----------------------------------------------------------------------------\n",
      "AR.1            3.5620           +0.0000j            3.5620            0.0000\n",
      "MA.1            1.0001           +0.0000j            1.0001            0.0000\n",
      "MA.2           -1.9756           +0.0000j            1.9756            0.5000\n",
      "-----------------------------------------------------------------------------\n",
      "Residuals Description\n",
      "count     166.000000\n",
      "mean       70.628035\n",
      "std      1091.183010\n",
      "min     -2158.961400\n",
      "25%      -696.036733\n",
      "50%       -22.465550\n",
      "75%       806.245116\n",
      "max      2699.397469\n",
      "dtype: float64\n"
     ]
    }
   ],
   "source": [
    "mod(y,(1,1,2),aic_array)"
   ]
  },
  {
   "cell_type": "code",
   "execution_count": 20,
   "metadata": {},
   "outputs": [
    {
     "data": {
      "text/plain": [
       "[2874.259826539219,\n",
       " 2867.442071558697,\n",
       " 2860.3230006379686,\n",
       " 2836.1764859967507,\n",
       " 2802.6860542589184]"
      ]
     },
     "execution_count": 20,
     "metadata": {},
     "output_type": "execute_result"
    }
   ],
   "source": [
    "aic_array"
   ]
  },
  {
   "cell_type": "code",
   "execution_count": 21,
   "metadata": {},
   "outputs": [
    {
     "data": {
      "text/plain": [
       "4"
      ]
     },
     "execution_count": 21,
     "metadata": {},
     "output_type": "execute_result"
    }
   ],
   "source": [
    "aic_array.index(min(aic_array))"
   ]
  },
  {
   "cell_type": "markdown",
   "metadata": {},
   "source": [
    "## Model 5 is the best model since it has the least AIC value."
   ]
  }
 ],
 "metadata": {
  "kernelspec": {
   "display_name": "Python 3",
   "language": "python",
   "name": "python3"
  },
  "language_info": {
   "codemirror_mode": {
    "name": "ipython",
    "version": 3
   },
   "file_extension": ".py",
   "mimetype": "text/x-python",
   "name": "python",
   "nbconvert_exporter": "python",
   "pygments_lexer": "ipython3",
   "version": "3.6.7"
  }
 },
 "nbformat": 4,
 "nbformat_minor": 2
}
